{
 "cells": [
  {
   "cell_type": "markdown",
   "id": "7327b1c2",
   "metadata": {},
   "source": [
    "# HeatMap of TB-Sufferers in Major Cities of India (Shown on map of India)\n",
    "\n",
    "The program traces active TB sufferers in different cities in India. The program displays the heatmap on the map of India. The data used here are not realistic as they are program generated but you can replace the numbers with real data and generate this heat map."
   ]
  },
  {
   "cell_type": "markdown",
   "id": "1e60bd76",
   "metadata": {},
   "source": [
    "### Data Generation (Synthetic)"
   ]
  },
  {
   "cell_type": "code",
   "execution_count": 10,
   "id": "b9f4a51e",
   "metadata": {
    "scrolled": true
   },
   "outputs": [],
   "source": [
    "import pandas as pd\n",
    "import numpy as np\n",
    "import folium\n",
    "from folium.plugins import HeatMap\n",
    "\n",
    "# List of major cities in India\n",
    "cities = [\n",
    "    \"Mumbai\", \"Delhi\", \"Bangalore\", \"Hyderabad\", \"Ahmedabad\", \"Chennai\",\n",
    "    \"Kolkata\", \"Surat\", \"Pune\", \"Jaipur\", \"Lucknow\", \"Kanpur\",\n",
    "    \"Nagpur\", \"Visakhapatnam\", \"Bhopal\", \"Patna\", \"Ludhiana\", \"Agra\",\n",
    "    \"Nashik\", \"Faridabad\", \"Meerut\", \"Rajkot\", \"Varanasi\", \"Srinagar\",\n",
    "    \"Aurangabad\", \"Dhanbad\", \"Amritsar\", \"Allahabad\", \"Ranchi\", \"Gwalior\",\n",
    "    \"Jodhpur\", \"Madurai\", \"Raipur\", \"Kota\", \"Chandigarh\", \"Guwahati\"\n",
    "]\n",
    "\n",
    "# Generate synthetic data for the number of TB sufferers\n",
    "np.random.seed(42)  # For reproducibility\n",
    "tb_sufferers = np.random.randint(500, 10000, size=len(cities))\n",
    "\n",
    "# Create a DataFrame\n",
    "tb_data = pd.DataFrame({\n",
    "    \"City\": cities,\n",
    "    \"TB_Sufferers\": tb_sufferers\n",
    "})\n",
    "\n",
    "# Define city locations with precise coordinates\n",
    "city_locations = {\n",
    "    \"Mumbai\": (19.0760, 72.8777), \"Delhi\": (28.7041, 77.1025), \"Bangalore\": (12.9716, 77.5946),\n",
    "    \"Hyderabad\": (17.3850, 78.4867), \"Ahmedabad\": (23.0225, 72.5714), \"Chennai\": (13.0827, 80.2707),\n",
    "    \"Kolkata\": (22.5726, 88.3639), \"Surat\": (21.1702, 72.8311), \"Pune\": (18.5204, 73.8567),\n",
    "    \"Jaipur\": (26.9124, 75.7873), \"Lucknow\": (26.8467, 80.9462), \"Kanpur\": (26.4499, 80.3319),\n",
    "    \"Nagpur\": (21.1458, 79.0882), \"Visakhapatnam\": (17.6868, 83.2185), \"Bhopal\": (23.2599, 77.4126),\n",
    "    \"Patna\": (25.5941, 85.1376), \"Ludhiana\": (30.9000, 75.8573), \"Agra\": (27.1767, 78.0081),\n",
    "    \"Nashik\": (19.9975, 73.7898), \"Faridabad\": (28.4089, 77.3178), \"Meerut\": (28.9845, 77.7064),\n",
    "    \"Rajkot\": (22.3039, 70.8022), \"Varanasi\": (25.3176, 83.0076), \"Srinagar\": (34.0837, 74.7973),\n",
    "    \"Aurangabad\": (19.8762, 75.3433), \"Dhanbad\": (23.7957, 86.4304), \"Amritsar\": (31.6340, 74.8723),\n",
    "    \"Allahabad\": (25.4358, 81.8463), \"Ranchi\": (23.3441, 85.3096), \"Gwalior\": (26.2183, 78.1791),\n",
    "    \"Jodhpur\": (26.2389, 73.0243), \"Madurai\": (9.9252, 78.1198), \"Raipur\": (21.2514, 81.6296),\n",
    "    \"Kota\": (25.2138, 75.8577), \"Chandigarh\": (30.7333, 76.7794), \"Guwahati\": (26.1445, 91.7362)\n",
    "}\n",
    "\n",
    "# Add location coordinates to the dataset\n",
    "tb_data['Latitude'] = tb_data['City'].map(lambda x: city_locations[x][0])\n",
    "tb_data['Longitude'] = tb_data['City'].map(lambda x: city_locations[x][1])\n",
    "\n"
   ]
  },
  {
   "cell_type": "markdown",
   "id": "ab66c09c",
   "metadata": {},
   "source": [
    "### Point them on map"
   ]
  },
  {
   "cell_type": "code",
   "execution_count": 12,
   "id": "d16070c7",
   "metadata": {},
   "outputs": [
    {
     "data": {
      "text/html": [
       "\n",
       "        <iframe\n",
       "            width=\"600\"\n",
       "            height=\"600\"\n",
       "            src=\"tb_heatmap_india.html\"\n",
       "            frameborder=\"0\"\n",
       "            allowfullscreen\n",
       "            \n",
       "        ></iframe>\n",
       "        "
      ],
      "text/plain": [
       "<IPython.lib.display.IFrame at 0x2641f526440>"
      ]
     },
     "metadata": {},
     "output_type": "display_data"
    }
   ],
   "source": [
    "# Create a map centered around India\n",
    "m = folium.Map(location=[20.5937, 78.9629], zoom_start=5)\n",
    "\n",
    "# Prepare data for HeatMap\n",
    "heat_data = [[row['Latitude'], row['Longitude'], row['TB_Sufferers']] for index, row in tb_data.iterrows()]\n",
    "\n",
    "# Add HeatMap layer\n",
    "HeatMap(heat_data, min_opacity=0.2, radius=25, blur=15, max_zoom=1).add_to(m)\n",
    "\n",
    "# Adding markers with city names for reference\n",
    "for i, row in tb_data.iterrows():\n",
    "    folium.CircleMarker(\n",
    "        location=(row['Latitude'], row['Longitude']),\n",
    "        radius=5,\n",
    "        color='blue',\n",
    "        fill=True,\n",
    "        fill_color='blue',\n",
    "        fill_opacity=0.6,\n",
    "        popup=f\"{row['City']}: {row['TB_Sufferers']} TB sufferers\"\n",
    "    ).add_to(m)\n",
    "\n",
    "# Save the map to an HTML file\n",
    "m.save(\"tb_heatmap_india.html\")\n",
    "\n",
    "\n",
    "map_file = \"tb_heatmap_india.html\"\n",
    "# Display the map in the notebook\n",
    "display(IFrame(map_file, width=600, height=600))"
   ]
  },
  {
   "cell_type": "code",
   "execution_count": null,
   "id": "085639cc",
   "metadata": {},
   "outputs": [],
   "source": []
  }
 ],
 "metadata": {
  "kernelspec": {
   "display_name": "Python 3 (ipykernel)",
   "language": "python",
   "name": "python3"
  },
  "language_info": {
   "codemirror_mode": {
    "name": "ipython",
    "version": 3
   },
   "file_extension": ".py",
   "mimetype": "text/x-python",
   "name": "python",
   "nbconvert_exporter": "python",
   "pygments_lexer": "ipython3",
   "version": "3.10.14"
  }
 },
 "nbformat": 4,
 "nbformat_minor": 5
}
